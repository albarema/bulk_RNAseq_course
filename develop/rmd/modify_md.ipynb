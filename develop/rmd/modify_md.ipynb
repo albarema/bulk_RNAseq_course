{
 "cells": [
  {
   "cell_type": "code",
   "execution_count": 32,
   "id": "a54318ee",
   "metadata": {},
   "outputs": [],
   "source": [
    "from os import listdir\n",
    "import re"
   ]
  },
  {
   "cell_type": "code",
   "execution_count": 33,
   "id": "304b386e",
   "metadata": {},
   "outputs": [
    {
     "name": "stdout",
     "output_type": "stream",
     "text": [
      "['.DS_Store', '07c_DEA_visualization.md', '07b_hypothesis_testing.md', '05b_count_matrix.md']\n"
     ]
    }
   ],
   "source": [
    "files = listdir(\"./develop/\")\n",
    "\n",
    "print(files)"
   ]
  },
  {
   "cell_type": "code",
   "execution_count": 34,
   "id": "1be423ee",
   "metadata": {},
   "outputs": [],
   "source": [
    "for i in files:\n",
    "    if i.endswith(\".md\"):\n",
    "        with open(\"./develop/\"+ i) as f:\n",
    "            text = f.read()\n",
    "            text = re.sub(\"\\nknit((.|\\n)*)\\n[0-9]{4}-[0-9]{2}-[0-9]{2}\\n\", \"\\n---\\n\" ,text)\n",
    "            text = re.sub(\"(”|“)\",\"\\\"\",text)\n",
    "        with open(\"./develop/\"+ i, \"w\") as f:\n",
    "            f.write(text)"
   ]
  }
 ],
 "metadata": {
  "kernelspec": {
   "display_name": "Python 3",
   "language": "python",
   "name": "python3"
  },
  "language_info": {
   "codemirror_mode": {
    "name": "ipython",
    "version": 3
   },
   "file_extension": ".py",
   "mimetype": "text/x-python",
   "name": "python",
   "nbconvert_exporter": "python",
   "pygments_lexer": "ipython3",
   "version": "3.11.1"
  },
  "vscode": {
   "interpreter": {
    "hash": "1a1af0ee75eeea9e2e1ee996c87e7a2b11a0bebd85af04bb136d915cefc0abce"
   }
  }
 },
 "nbformat": 4,
 "nbformat_minor": 5
}
