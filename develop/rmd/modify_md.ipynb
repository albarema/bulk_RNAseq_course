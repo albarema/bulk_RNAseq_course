{
 "cells": [
  {
   "cell_type": "code",
   "execution_count": 2,
   "id": "a54318ee",
   "metadata": {},
   "outputs": [],
   "source": [
    "import os\n",
    "import shutil\n",
    "import re"
   ]
  },
  {
   "cell_type": "code",
   "execution_count": 3,
   "id": "304b386e",
   "metadata": {},
   "outputs": [
    {
     "name": "stdout",
     "output_type": "stream",
     "text": [
      "['05c_count_normalization.md', '.Rhistory', '02_experimental_planning.md', '07a_DEA.md', '03_data_explanation.md', '04c_preprocessing_setup.md', '08b_FA_overrepresentation.md', '.DS_Store', 'summary.md', 'cards', '04a_preprocessing.md', 'rmd', '07c_DEA_visualization.md', '09_summarized_workflow.md', '06_exploratory_analysis.md', 'img', 'index.md', 'contributors.md', '08a_FA_genomic_annotation.md', '.RData', 'javascripts', '07b_hypothesis_testing.md', '05b_count_matrix.md', '08c_FA_GSEA.md', 'assets', '05a_data_analysis_setup.md', '04b_pipelines.md', '07_extra_contrast_design.md', 'keywords.md', 'stylesheets']\n"
     ]
    }
   ],
   "source": [
    "source_folder = \"./develop/\"\n",
    "images_folder = \"./img/\"\n",
    "destination_folder = \"../\"\n",
    "files = os.listdir(source_folder)\n",
    "\n",
    "print(files)"
   ]
  },
  {
   "cell_type": "code",
   "execution_count": 4,
   "id": "1be423ee",
   "metadata": {},
   "outputs": [
    {
     "name": "stdout",
     "output_type": "stream",
     "text": [
      "Processing: 05c_count_normalization.md \n",
      "\n",
      "Processing: 02_experimental_planning.md \n",
      "\n",
      "Processing: 07a_DEA.md \n",
      "\n",
      "Processing: 03_data_explanation.md \n",
      "\n",
      "Processing: 04c_preprocessing_setup.md \n",
      "\n",
      "Processing: 08b_FA_overrepresentation.md \n",
      "\n",
      "Processing: summary.md \n",
      "\n",
      "Processing: 04a_preprocessing.md \n",
      "\n",
      "Processing: 07c_DEA_visualization.md \n",
      "\n",
      "Processing: 09_summarized_workflow.md \n",
      "\n",
      "Processing: 06_exploratory_analysis.md \n",
      "\n",
      "Processing: index.md \n",
      "\n",
      "Processing: contributors.md \n",
      "\n",
      "Processing: 08a_FA_genomic_annotation.md \n",
      "\n",
      "Processing: 07b_hypothesis_testing.md \n",
      "\n",
      "Processing: 05b_count_matrix.md \n",
      "\n",
      "Processing: 08c_FA_GSEA.md \n",
      "\n",
      "Processing: 05a_data_analysis_setup.md \n",
      "\n",
      "Processing: 04b_pipelines.md \n",
      "\n",
      "Processing: 07_extra_contrast_design.md \n",
      "\n",
      "Processing: keywords.md \n",
      "\n"
     ]
    }
   ],
   "source": [
    "for i in files:\n",
    "    if i.endswith(\".md\"):\n",
    "        with open(source_folder + i) as f:\n",
    "            print(\"Processing:\", i, \"\\n\")\n",
    "            text = f.read()\n",
    "            text = re.sub(\"\\nknit((.|\\n)*)\\n[0-9]{4}-[0-9]+-[0-9]+\\n\", \"\\n---\\n\" ,text)\n",
    "            text = re.sub(\"(”|“)\",\"\\\"\",text)\n",
    "            text = re.sub(\"(‘|’)\",\"\\'\",text)\n",
    "            text = re.sub(\"(‘|’)\",\"\\'\",text)\n",
    "            text = re.sub(\" \",\" \",text)\n",
    "            text = re.sub(\"\\\\>\",\">\",text)\n",
    "            text = re.sub(\"\\\\<\",\"<\",text)\n",
    "        with open(source_folder + i, \"w\") as f:\n",
    "            f.write(text)"
   ]
  },
  {
   "cell_type": "code",
   "execution_count": 14,
   "id": "3c24b5e5",
   "metadata": {},
   "outputs": [
    {
     "name": "stdout",
     "output_type": "stream",
     "text": [
      "Moved: 08a_FA_genomic_annotation.md\n"
     ]
    }
   ],
   "source": [
    "for file_name in os.listdir(source_folder):\n",
    "    # construct full file path\n",
    "    source = source_folder + file_name\n",
    "    destination = destination_folder + file_name\n",
    "    shutil.move(source, destination)\n",
    "    print('Moved:', file_name)"
   ]
  },
  {
   "cell_type": "code",
   "execution_count": 15,
   "id": "3dd4b8a1",
   "metadata": {},
   "outputs": [],
   "source": [
    "\n",
    "def copy_directory(src_dir, dest_dir):\n",
    "    if not os.path.exists(dest_dir):\n",
    "        os.makedirs(dest_dir)\n",
    "    for item in os.listdir(src_dir):\n",
    "        src_path = os.path.join(src_dir, item)\n",
    "        dest_path = os.path.join(dest_dir, item)\n",
    "        if os.path.isdir(src_path):\n",
    "            copy_directory(src_path, dest_path)\n",
    "        else:\n",
    "            shutil.copy2(src_path, dest_path)\n",
    "\n",
    "copy_directory(images_folder, destination_folder+\"img/\")"
   ]
  }
 ],
 "metadata": {
  "kernelspec": {
   "display_name": "Python 3",
   "language": "python",
   "name": "python3"
  },
  "language_info": {
   "codemirror_mode": {
    "name": "ipython",
    "version": 3
   },
   "file_extension": ".py",
   "mimetype": "text/x-python",
   "name": "python",
   "nbconvert_exporter": "python",
   "pygments_lexer": "ipython3",
   "version": "3.11.0"
  },
  "vscode": {
   "interpreter": {
    "hash": "1a1af0ee75eeea9e2e1ee996c87e7a2b11a0bebd85af04bb136d915cefc0abce"
   }
  }
 },
 "nbformat": 4,
 "nbformat_minor": 5
}
